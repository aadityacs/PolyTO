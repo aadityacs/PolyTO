{
  "cells": [
    {
      "cell_type": "markdown",
      "metadata": {
        "id": "view-in-github",
        "colab_type": "text"
      },
      "source": [
        "<a href=\"https://colab.research.google.com/github/aadityacs/PolyTO/blob/main/poly_optimization.ipynb\" target=\"_parent\"><img src=\"https://colab.research.google.com/assets/colab-badge.svg\" alt=\"Open In Colab\"/></a>"
      ]
    },
    {
      "cell_type": "code",
      "execution_count": null,
      "id": "a6885bc6-66e9-4a0d-b701-8f8a8c841dfa",
      "metadata": {
        "id": "a6885bc6-66e9-4a0d-b701-8f8a8c841dfa"
      },
      "outputs": [],
      "source": [
        "from typing import Tuple\n",
        "import numpy as np\n",
        "import jax.numpy as jnp\n",
        "from jax import value_and_grad\n",
        "import jax\n",
        "import matplotlib.pyplot as plt\n",
        "\n",
        "import mesher\n",
        "import examples\n",
        "import poly_primitives as poly\n",
        "import geometry_projection as gp\n",
        "import FE_routines as fe\n",
        "import mma\n",
        "import matplotlib as mpl\n",
        "mpl.rcParams['figure.dpi'] = 300"
      ]
    },
    {
      "cell_type": "code",
      "execution_count": null,
      "id": "d2043bbc-fb0e-45b0-8c42-21e4661bc28e",
      "metadata": {
        "id": "d2043bbc-fb0e-45b0-8c42-21e4661bc28e"
      },
      "outputs": [],
      "source": [
        "bounding_box = mesher.BoundingBox(x_min=0., x_max=60.,\n",
        "                                  y_min=0., y_max = 30.)\n",
        "mesh = mesher.Mesher(nelx = 40, nely = 20, bounding_box=bounding_box)\n",
        "\n",
        "# plot on a higher res mesh\n",
        "plot_mesh = mesher.Mesher(nelx = 600, nely = 300, bounding_box=bounding_box)"
      ]
    },
    {
      "cell_type": "code",
      "execution_count": null,
      "id": "05620d60-db6b-4b46-a4f3-78425f23278a",
      "metadata": {
        "id": "05620d60-db6b-4b46-a4f3-78425f23278a"
      },
      "outputs": [],
      "source": [
        "material = fe.Material(youngs_modulus=1.,\n",
        "                       poissons_ratio=0.3,\n",
        "                       delta_youngs_modulus=1e-3)"
      ]
    },
    {
      "cell_type": "code",
      "execution_count": null,
      "id": "29c99499-b633-4d80-b56a-4aae17331e64",
      "metadata": {
        "id": "29c99499-b633-4d80-b56a-4aae17331e64"
      },
      "outputs": [],
      "source": [
        "bc = examples.get_sample_bc(mesh, examples.SampleBoundaryConditions.MBB_BEAM)"
      ]
    },
    {
      "cell_type": "code",
      "execution_count": null,
      "id": "e40c3e5e-baad-4d8f-87ab-a86f6e11e8c0",
      "metadata": {
        "id": "e40c3e5e-baad-4d8f-87ab-a86f6e11e8c0"
      },
      "outputs": [],
      "source": [
        "nxb, nyb = 3, 2\n",
        "num_polys = nxb*nyb\n",
        "num_planes_in_a_poly = 6\n",
        "max_angle_offset = 2*np.pi\n",
        "poly_extents = poly.PolygonExtents(num_polys=num_polys,\n",
        "                          num_planes_in_a_poly=num_planes_in_a_poly,\n",
        "                          min_center_x=-0.,\n",
        "                          min_center_y=-0., \n",
        "                          max_center_x=mesh.lx,\n",
        "                          max_center_y=mesh.ly,\n",
        "                          min_face_offset=-0.1*mesh.lx,\n",
        "                          max_face_offset=0.5*mesh.lx,\n",
        "                          min_angle_offset=0.,\n",
        "                          max_angle_offset= max_angle_offset)"
      ]
    },
    {
      "cell_type": "code",
      "execution_count": null,
      "id": "257a2c82-5c41-4685-8dfb-3c8f7b5664bc",
      "metadata": {
        "id": "257a2c82-5c41-4685-8dfb-3c8f7b5664bc"
      },
      "outputs": [],
      "source": [
        "# init_geom = poly.init_random_polys(poly_extents)\n",
        "init_geom = poly.init_poly_grid(nxb, nyb, poly_extents)"
      ]
    },
    {
      "cell_type": "code",
      "execution_count": null,
      "id": "eeb8b317-18c1-4519-b6b1-d5449e3b1c11",
      "metadata": {
        "id": "eeb8b317-18c1-4519-b6b1-d5449e3b1c11"
      },
      "outputs": [],
      "source": [
        "fe_solver = fe.FEA(mesh, material, bc)\n",
        "lossfn = fe_solver.loss_function"
      ]
    },
    {
      "cell_type": "code",
      "execution_count": null,
      "id": "dd55ef45-9dbe-41ed-966c-67942864ae8e",
      "metadata": {
        "id": "dd55ef45-9dbe-41ed-966c-67942864ae8e"
      },
      "outputs": [],
      "source": [
        "def plot_polygons(polygons: poly.ConvexPolys, mesh: mesher.Mesher,\n",
        "                  status = '', save_fig_as = None):\n",
        "  \"\"\"\n",
        "  Each blob gets a different random color.\n",
        "  \"\"\"\n",
        "  \n",
        "  # get the density of each blob\n",
        "  sdf = poly.compute_poly_sdf(polygons, mesh)\n",
        "  density = gp.project_primitive_sdf_to_density(sdf, mesh, 100)\n",
        "\n",
        "  red_color = np.zeros((density.shape[0], 4))\n",
        "  red_color[:,0] = 1.; red_color[:,1] = 0.\n",
        "  red_color[:,2] = 0.; red_color[:,3] = 0.5\n",
        "\n",
        "  grayness = 0.98 # bg color to slight gray\n",
        "  composite_img = ( np.clip(\n",
        "    np.einsum('bc, be -> ec', red_color, density), a_min=0.05, a_max=grayness))\n",
        "\n",
        "  plt.figure()\n",
        "  plt.tick_params(left=False, right=False, labelleft=False,\n",
        "                labelbottom=False, bottom=False)\n",
        "  plt.imshow(composite_img.reshape((mesh.nelx, mesh.nely, 4)).transpose((1, 0, 2)),\n",
        "            origin='lower')\n",
        "  plt.axis('off')\n",
        "  plt.title(status)\n",
        "  \n",
        "  if save_fig_as is not None:\n",
        "    plt.savefig(save_fig_as)\n",
        "  plt.show()\n",
        "\n",
        "def polygons_to_density(polygons: poly.ConvexPolys, mesh: mesher.Mesher):\n",
        "  sdf = poly.compute_poly_sdf(polygons, mesh)\n",
        "  density = gp.project_primitive_sdf_to_density(sdf, mesh)\n",
        "  return gp.compute_union_density_fields(density)\n",
        "\n",
        "class Optimizer:\n",
        "  def __init__(self, lossfn: callable,\n",
        "               mesh: mesher.Mesher,\n",
        "               polyg_extents: poly.PolygonExtents):\n",
        "    self.lossfn, self.mesh = lossfn, mesh\n",
        "    self.polyg_extents = polyg_extents\n",
        "  #-----------------------#\n",
        "  def constraint_fn(self, design_variable: jnp.ndarray,\n",
        "                        max_vol_frac: float,\n",
        "                        allowed_min_edge_length: float) -> Tuple[jnp.ndarray, jnp.ndarray]:\n",
        "\n",
        "    def volume_constraint(design_variable:jnp.ndarray)-> float:\n",
        "      self.geometry = poly.ConvexPolys.from_normalized_array(\n",
        "            design_variable.reshape((-1)), self.polyg_extents)\n",
        "      density = polygons_to_density(self.geometry, self.mesh)\n",
        "      occupied_volume = self.mesh.elem_area*jnp.sum(density)\n",
        "      volcons =  occupied_volume/(max_vol_frac*self.mesh.domain_volume) - 1.\n",
        "      return volcons\n",
        "    vc, dvc = value_and_grad(volume_constraint)(design_variable)\n",
        "\n",
        "    def min_edge_length_constraint(design_variable:jnp.ndarray)-> float:\n",
        "      polygons = poly.ConvexPolys.from_normalized_array(\n",
        "            design_variable.reshape((-1)), self.polyg_extents)\n",
        "      min_edge_length = poly.compute_min_edge_length_of_polygons(polygons)\n",
        "      return 1. - (min_edge_length/allowed_min_edge_length)\n",
        "    elc, delc = value_and_grad(min_edge_length_constraint)(design_variable)\n",
        "    \n",
        "    c = jnp.vstack((vc, elc))\n",
        "    dc = jnp.hstack((dvc, delc)).T\n",
        "    return c, dc\n",
        "  #-----------------------#\n",
        "  def objective_fn(self, design_var: jnp.ndarray)-> Tuple[jnp.ndarray,\n",
        "                                                          jnp.ndarray]:\n",
        "    def obj_wrapper(design_var: jnp.ndarray)->jnp.ndarray:\n",
        "      self.geometry = poly.ConvexPolys.from_normalized_array(\n",
        "        design_var.reshape((-1)), self.polyg_extents)\n",
        "      density = polygons_to_density(self.geometry, self.mesh)\n",
        "      compliance = self.lossfn(density)\n",
        "      return compliance\n",
        "    obj, grad_obj = value_and_grad(obj_wrapper)(design_var)\n",
        "    return obj, grad_obj.reshape((-1, 1))\n",
        "  #-----------------------#\n",
        "  def optimize(self, init_geom: poly.ConvexPolys,\n",
        "               max_vol_frac: float, allowed_min_edge_length: float,\n",
        "               max_iter: int,\n",
        "               kkt_tol: float=1e-6, step_tol: float=1e-6, move_limit: float=1e-2,\n",
        "               plot_interval: int=5):\n",
        "\n",
        "    self.num_design_var = init_geom.num_free_parameters\n",
        "    self.geometry = init_geom\n",
        "    self.design_var = self.geometry.to_normalized_array(\n",
        "      self.polyg_extents).reshape((-1, 1))\n",
        "    lower_bound = np.zeros((self.num_design_var, 1))\n",
        "    upper_bound = np.ones((self.num_design_var, 1))\n",
        "    mma_params = mma.MMAParams(\n",
        "        max_iter=max_iter,\n",
        "        kkt_tol=kkt_tol,\n",
        "        step_tol=step_tol,\n",
        "        move_limit=move_limit,\n",
        "        num_design_var=self.num_design_var,\n",
        "        num_cons=2,\n",
        "        lower_bound=lower_bound,\n",
        "        upper_bound=upper_bound,\n",
        "    )\n",
        "    mma_state = mma.init_mma(self.design_var, mma_params)\n",
        "    def plotfun(x, status = ''):\n",
        "      polygons = poly.ConvexPolys.from_normalized_array(\n",
        "                    x.reshape((-1)), self.polyg_extents)\n",
        "      plot_polygons(polygons, plot_mesh, status=status,\n",
        "                    save_fig_as = f'./frames/iter_{mma_state.epoch}.svg')\n",
        "\n",
        "    history = {'obj':[], 'vol_cons':[], 'edge_len_cons':[]}\n",
        "\n",
        "    while not mma_state.is_converged:\n",
        "      objective, grad_obj = self.objective_fn(mma_state.x)\n",
        "      constr, grad_cons = self.constraint_fn(mma_state.x, max_vol_frac,\n",
        "                                             allowed_min_edge_length)\n",
        "      mma_state.x = np.array(mma_state.x)\n",
        "      mma_state = mma.update_mma(\n",
        "        mma_state, mma_params, np.array(objective),\n",
        "        np.array(grad_obj), np.array(constr), np.array(grad_cons)\n",
        "      )\n",
        "\n",
        "      status = (f'epoch {mma_state.epoch:d} obj {objective:.2E} '\n",
        "                f'vol cons {constr[0,0]:.2E} edge_len_cons {constr[1,0]:.2E} ')\n",
        "      history['obj'].append(objective)\n",
        "      history['vol_cons'].append(constr[0,0])\n",
        "      history['edge_len_cons'].append(constr[1,0])\n",
        "      \n",
        "      print(status)\n",
        "      if mma_state.epoch%plot_interval == 0 or mma_state.epoch==1:\n",
        "        plotfun(mma_state.x, status)\n",
        "    return mma_state, history"
      ]
    },
    {
      "cell_type": "code",
      "execution_count": null,
      "id": "df4ac194-84a4-44c7-8ba9-2aa893c747e2",
      "metadata": {
        "id": "df4ac194-84a4-44c7-8ba9-2aa893c747e2"
      },
      "outputs": [],
      "source": [
        "optim = Optimizer(lossfn, mesh, poly_extents)\n",
        "\n",
        "mma_state, history = optim.optimize(init_geom, max_vol_frac=0.5,\n",
        "                                    allowed_min_edge_length = 2.,\n",
        "                                    max_iter=200,\n",
        "                                    plot_interval=20)\n",
        "plt.show(block=True)"
      ]
    },
    {
      "cell_type": "code",
      "execution_count": null,
      "id": "19bbc72d-210e-4b5b-88fb-326476666a16",
      "metadata": {
        "id": "19bbc72d-210e-4b5b-88fb-326476666a16"
      },
      "outputs": [],
      "source": [
        "for k in history:\n",
        "  plt.figure()\n",
        "  plt.plot(history[k])\n",
        "  plt.xlabel('iter')\n",
        "  plt.ylabel(f'{k}')"
      ]
    },
    {
      "cell_type": "code",
      "source": [],
      "metadata": {
        "id": "8rf0t3i6EdPD"
      },
      "id": "8rf0t3i6EdPD",
      "execution_count": null,
      "outputs": []
    }
  ],
  "metadata": {
    "kernelspec": {
      "display_name": "Python 3 (ipykernel)",
      "language": "python",
      "name": "python3"
    },
    "language_info": {
      "codemirror_mode": {
        "name": "ipython",
        "version": 3
      },
      "file_extension": ".py",
      "mimetype": "text/x-python",
      "name": "python",
      "nbconvert_exporter": "python",
      "pygments_lexer": "ipython3",
      "version": "3.9.12"
    },
    "colab": {
      "provenance": [],
      "include_colab_link": true
    }
  },
  "nbformat": 4,
  "nbformat_minor": 5
}